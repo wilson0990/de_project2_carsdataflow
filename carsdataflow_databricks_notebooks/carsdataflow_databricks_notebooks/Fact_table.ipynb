{
 "cells": [
  {
   "cell_type": "code",
   "execution_count": 0,
   "metadata": {
    "application/vnd.databricks.v1+cell": {
     "cellMetadata": {
      "byteLimit": 2048000,
      "rowLimit": 10000
     },
     "inputWidgets": {},
     "nuid": "c37aee75-9291-486c-8c71-cb1fdb78cc74",
     "showTitle": false,
     "tableResultSettingsMap": {},
     "title": ""
    }
   },
   "outputs": [],
   "source": [
    "%run /Workspace/carsdataflow_databricks_notebooks/setup"
   ]
  },
  {
   "cell_type": "markdown",
   "metadata": {
    "application/vnd.databricks.v1+cell": {
     "cellMetadata": {
      "byteLimit": 2048000,
      "rowLimit": 10000
     },
     "inputWidgets": {},
     "nuid": "a57b2947-afc9-4df8-8679-ea6d3296cbbb",
     "showTitle": false,
     "tableResultSettingsMap": {},
     "title": ""
    }
   },
   "source": [
    "# Create Fact Table"
   ]
  },
  {
   "cell_type": "code",
   "execution_count": 0,
   "metadata": {
    "application/vnd.databricks.v1+cell": {
     "cellMetadata": {
      "byteLimit": 2048000,
      "rowLimit": 10000
     },
     "inputWidgets": {},
     "nuid": "d56f6ed1-279f-4ec9-9f1b-b18e36a05ca9",
     "showTitle": false,
     "tableResultSettingsMap": {},
     "title": ""
    }
   },
   "outputs": [],
   "source": [
    "silver_path = \"abfss://silver@adlsforcarsdataflow.dfs.core.windows.net/Carsdata/\"\n",
    "gold_path = \"abfss://gold@adlsforcarsdataflow.dfs.core.windows.net/Carsdata/\""
   ]
  },
  {
   "cell_type": "code",
   "execution_count": 0,
   "metadata": {
    "application/vnd.databricks.v1+cell": {
     "cellMetadata": {
      "byteLimit": 2048000,
      "rowLimit": 10000
     },
     "inputWidgets": {},
     "nuid": "f9d509cf-b7fd-4c12-91d0-0ddaa09b25f9",
     "showTitle": false,
     "tableResultSettingsMap": {},
     "title": ""
    }
   },
   "outputs": [],
   "source": [
    "%python\n",
    "# Reading the data from silver container\n",
    "\n",
    "df = spark.read.format(\"Delta\").load(silver_path)\n",
    "display(df)"
   ]
  },
  {
   "cell_type": "code",
   "execution_count": 0,
   "metadata": {
    "application/vnd.databricks.v1+cell": {
     "cellMetadata": {
      "byteLimit": 2048000,
      "rowLimit": 10000
     },
     "inputWidgets": {},
     "nuid": "a85c1ac3-c88a-48f4-a590-c2ed2e336a06",
     "showTitle": false,
     "tableResultSettingsMap": {},
     "title": ""
    }
   },
   "outputs": [],
   "source": [
    "# brining all the dimension into the df\n",
    "\n",
    "dim_model_df = spark.sql(\"select * from carsdataflow_silver.dim_model\")\n",
    "dim_branch_df = spark.sql(\"select * from carsdataflow_silver.dim_branch\")\n",
    "dim_dealer_df = spark.sql(\"select * from carsdataflow_silver.dim_dealer\")\n",
    "dim_date_df = spark.sql(\"select * from carsdataflow_silver.dim_date\")\n",
    "\n",
    "dim_model_df.display()\n",
    "dim_branch_df.display()\n",
    "dim_dealer_df.display()\n",
    "dim_date_df.display()\n"
   ]
  },
  {
   "cell_type": "code",
   "execution_count": 0,
   "metadata": {
    "application/vnd.databricks.v1+cell": {
     "cellMetadata": {
      "byteLimit": 2048000,
      "rowLimit": 10000
     },
     "inputWidgets": {},
     "nuid": "dc4d3a3b-b311-4ad0-a7d5-e835ea31f6b4",
     "showTitle": false,
     "tableResultSettingsMap": {},
     "title": ""
    }
   },
   "outputs": [],
   "source": [
    "# Bringing dim_keys to the Fact Table\n",
    "\n",
    "fact_table = df.join(dim_model_df, df.Model_ID == dim_model_df.Model_ID, \"left\")\\\n",
    "                .join(dim_branch_df, df.Branch_ID == dim_branch_df.Branch_ID, \"left\")\\\n",
    "                    .join(dim_dealer_df, df.Dealer_ID == dim_dealer_df.Dealer_ID, \"left\")\\\n",
    "                        .join(dim_date_df, df.Date_ID == dim_date_df.Date_ID, \"left\")\\\n",
    "                            .select(df.Revenue, df.Units_Sold, df.Units_Sold_Per_Unit, dim_model_df.Model_Key, dim_branch_df.Branch_Key, dim_dealer_df.Dealer_Key, dim_date_df.Date_Key)\n",
    "\n",
    "display(fact_table)"
   ]
  },
  {
   "cell_type": "markdown",
   "metadata": {
    "application/vnd.databricks.v1+cell": {
     "cellMetadata": {
      "byteLimit": 2048000,
      "rowLimit": 10000
     },
     "inputWidgets": {},
     "nuid": "27d3928e-aeb3-4b42-a658-e58703fe8b50",
     "showTitle": false,
     "tableResultSettingsMap": {},
     "title": ""
    }
   },
   "source": [
    "### Writing Fact Table to Gold Container"
   ]
  },
  {
   "cell_type": "code",
   "execution_count": 0,
   "metadata": {
    "application/vnd.databricks.v1+cell": {
     "cellMetadata": {
      "byteLimit": 2048000,
      "rowLimit": 10000
     },
     "inputWidgets": {},
     "nuid": "932029af-25bb-4a01-bcbb-9a8c9d46b5cf",
     "showTitle": false,
     "tableResultSettingsMap": {},
     "title": ""
    }
   },
   "outputs": [],
   "source": [
    "from delta.tables import DeltaTable"
   ]
  },
  {
   "cell_type": "code",
   "execution_count": 0,
   "metadata": {
    "application/vnd.databricks.v1+cell": {
     "cellMetadata": {
      "byteLimit": 2048000,
      "rowLimit": 10000
     },
     "inputWidgets": {},
     "nuid": "4af6e7dd-1c6a-4d8d-bfee-c1bd7673f3a6",
     "showTitle": false,
     "tableResultSettingsMap": {},
     "title": ""
    }
   },
   "outputs": [],
   "source": [
    "if spark.catalog.tableExists(\"carsdataflow_gold.fact_table\"):\n",
    "    delta_table = DeltaTable.forName(spark, \"carsdataflow_gold.fact_table\")\n",
    "    delta_table.alias(\"t\").merge(fact_table.alias(\"s\"), \"t.Date_Key = s.Date_Key AND t.Branch_Key = s.Branch_Key AND t.Dealer_Key = s.Dealer_Key AND t.Model_Key = s.Model_Key\")\n",
    "\n",
    "else:\n",
    "    fact_table.write.format(\"delta\").mode(\"overwrite\").option(\"path\", gold_path + \"fact_table\").saveAsTable(\"carsdataflow_gold.fact_table\")\n"
   ]
  },
  {
   "cell_type": "code",
   "execution_count": 0,
   "metadata": {
    "application/vnd.databricks.v1+cell": {
     "cellMetadata": {
      "byteLimit": 2048000,
      "implicitDf": true,
      "rowLimit": 10000
     },
     "inputWidgets": {},
     "nuid": "be7bc299-61a7-4066-8af4-7aea9fcf8ee2",
     "showTitle": false,
     "tableResultSettingsMap": {},
     "title": ""
    }
   },
   "outputs": [],
   "source": [
    "%sql\n",
    "select * from carsdataflow_gold.fact_table"
   ]
  }
 ],
 "metadata": {
  "application/vnd.databricks.v1+notebook": {
   "computePreferences": null,
   "dashboards": [],
   "environmentMetadata": {
    "base_environment": "",
    "client": "1"
   },
   "language": "python",
   "notebookMetadata": {
    "mostRecentlyExecutedCommandWithImplicitDF": {
     "commandId": 4512529146098728,
     "dataframes": [
      "_sqldf"
     ]
    },
    "pythonIndentUnit": 4
   },
   "notebookName": "Fact_table",
   "widgets": {}
  },
  "language_info": {
   "name": "python"
  }
 },
 "nbformat": 4,
 "nbformat_minor": 0
}
